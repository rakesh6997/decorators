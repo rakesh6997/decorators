{
 "cells": [
  {
   "cell_type": "code",
   "execution_count": 9,
   "metadata": {},
   "outputs": [
    {
     "name": "stdout",
     "output_type": "stream",
     "text": [
      "10\n"
     ]
    }
   ],
   "source": [
    "def decorfun(fun):\n",
    "    def inner():\n",
    "        result=fun()\n",
    "        return result*2\n",
    "    return inner\n",
    "@decorfun\n",
    "def num():\n",
    "    return 5\n",
    "\n",
    "print(num())"
   ]
  },
  {
   "cell_type": "code",
   "execution_count": 12,
   "metadata": {},
   "outputs": [
    {
     "name": "stdout",
     "output_type": "stream",
     "text": [
      "hello john how are you\n"
     ]
    }
   ],
   "source": [
    "#string decor\n",
    "def decorfun(fun):\n",
    "    def inner(n):\n",
    "        result=fun(n)\n",
    "        result+=\" how are you\"\n",
    "        return result\n",
    "    return inner\n",
    "@decorfun\n",
    "def hello(name):\n",
    "    return 'hello'+name\n",
    "print(hello(' john'))\n"
   ]
  },
  {
   "cell_type": "code",
   "execution_count": 2,
   "metadata": {},
   "outputs": [
    {
     "name": "stdout",
     "output_type": "stream",
     "text": [
      "20\n",
      "21\n",
      "22\n",
      "23\n",
      "24\n",
      "25\n",
      "26\n",
      "27\n",
      "28\n",
      "29\n"
     ]
    }
   ],
   "source": [
    "#custom generator\n",
    "def customgen(x,y):\n",
    "    while x<y:\n",
    "        yield x\n",
    "        x+=+1\n",
    "result=customgen(20,30)\n",
    "for i in result:\n",
    "    print(i)"
   ]
  },
  {
   "cell_type": "code",
   "execution_count": 6,
   "metadata": {},
   "outputs": [
    {
     "name": "stdout",
     "output_type": "stream",
     "text": [
      "[1, 8, 27, 64, 125, 216, 343, 512, 729, 1000]\n"
     ]
    }
   ],
   "source": [
    "#list comprehension cubes of number\n",
    "'''lst=[]\n",
    "for x in range(1,11):\n",
    "    lst.append(x**3)\n",
    "print(lst)'''\n",
    "lst=[]\n",
    "lst=[x**3 for x in range(1,11)]\n",
    "print(lst)\n"
   ]
  },
  {
   "cell_type": "code",
   "execution_count": 17,
   "metadata": {},
   "outputs": [
    {
     "name": "stdout",
     "output_type": "stream",
     "text": [
      "[2, 4, 6, 8, 10, 12, 14, 16, 18, 20]\n"
     ]
    }
   ],
   "source": [
    "#even numbers\n",
    "lst=[]\n",
    "lst=[x for x in range(1,21)if x%2==0]\n",
    "print(lst)"
   ]
  },
  {
   "cell_type": "code",
   "execution_count": 20,
   "metadata": {},
   "outputs": [
    {
     "name": "stdout",
     "output_type": "stream",
     "text": [
      "[6, 14, 24, 36, 50]\n"
     ]
    }
   ],
   "source": [
    "#pr0duct of list\n",
    "a=[1,2,3,4,5]\n",
    "b=[6,7,8,9,10]\n",
    "z=[a[i]*b[i] for i in range(len(a))]\n",
    "print(z)"
   ]
  },
  {
   "cell_type": "code",
   "execution_count": 24,
   "metadata": {},
   "outputs": [
    {
     "name": "stdout",
     "output_type": "stream",
     "text": [
      "[2, 4]\n"
     ]
    }
   ],
   "source": [
    "#common elements\n",
    "a=[2,4,6,8]\n",
    "b=[1,2,3,4]\n",
    "result=[]\n",
    "'''for i in a:\n",
    "    if i in b:\n",
    "        result.append(i)'''\n",
    "result=[i for i in a if i in b]\n",
    "print(result)"
   ]
  },
  {
   "cell_type": "code",
   "execution_count": 16,
   "metadata": {},
   "outputs": [
    {
     "name": "stdout",
     "output_type": "stream",
     "text": [
      "iphone\n",
      "its awesome\n",
      "700\n"
     ]
    }
   ],
   "source": [
    "#oops basic\n",
    "#product\n",
    "class Product:\n",
    "    \n",
    "    def __init__(self):\n",
    "        self.name= 'iphone'\n",
    "        self.description='its awesome'\n",
    "        self.price=700\n",
    "        \n",
    "p1=Product()\n",
    "print(p1.name)\n",
    "print(p1.description)\n",
    "print(p1.price)\n",
    "\n"
   ]
  },
  {
   "cell_type": "code",
   "execution_count": 26,
   "metadata": {},
   "outputs": [
    {
     "name": "stdout",
     "output_type": "stream",
     "text": [
      "java course\n",
      "[1, 2, 3, 4, 5]\n",
      "java web services\n",
      "[5, 5, 5, 5]\n"
     ]
    }
   ],
   "source": [
    "#course\n",
    "class Course:\n",
    "    def __init__(self,name,ratings):\n",
    "        self.name=name\n",
    "        self.ratings=ratings\n",
    "c1=Course('java course',[1,2,3,4,5])\n",
    "print(c1.name)\n",
    "print(c1.ratings)\n",
    "c2=Course('java web services',[5,5,5,5])\n",
    "print(c2.name)\n",
    "print(c2.ratings)"
   ]
  },
  {
   "cell_type": "code",
   "execution_count": 38,
   "metadata": {},
   "outputs": [
    {
     "name": "stdout",
     "output_type": "stream",
     "text": [
      "java course\n",
      "[1, 2, 3, 4, 5]\n",
      "Average Ratings for java course Is 3.0\n",
      "java web services\n",
      "[5, 5, 5, 5, 5]\n",
      "Average Ratings for java web services Is 5.0\n"
     ]
    }
   ],
   "source": [
    "class course:\n",
    "    def __init__(self,name,ratings):\n",
    "        self.name=name\n",
    "        self.ratings=ratings\n",
    "    def average(self):\n",
    "        numberofRatings=len(self.ratings)\n",
    "        average=sum(self.ratings)/numberofRatings\n",
    "        print('Average Ratings for',self.name,'Is',average)\n",
    "c1=course('java course',[1,2,3,4,5])\n",
    "print(c1.name)\n",
    "print(c1.ratings)\n",
    "c1.average()\n",
    "\n",
    "c2=course('java web services',[5,5,5,5,5])\n",
    "print(c2.name)\n",
    "print(c2.ratings)\n",
    "c2.average()"
   ]
  },
  {
   "cell_type": "code",
   "execution_count": 40,
   "metadata": {},
   "outputs": [
    {
     "ename": "TypeError",
     "evalue": "getSalary() takes 1 positional argument but 2 were given",
     "output_type": "error",
     "traceback": [
      "\u001b[1;31m---------------------------------------------------------------------------\u001b[0m",
      "\u001b[1;31mTypeError\u001b[0m                                 Traceback (most recent call last)",
      "\u001b[1;32m<ipython-input-40-48eb678f624e>\u001b[0m in \u001b[0;36m<module>\u001b[1;34m\u001b[0m\n\u001b[0;32m     14\u001b[0m \u001b[0mp1\u001b[0m\u001b[1;33m=\u001b[0m\u001b[0mprogrammer\u001b[0m\u001b[1;33m(\u001b[0m\u001b[1;33m)\u001b[0m\u001b[1;33m\u001b[0m\u001b[1;33m\u001b[0m\u001b[0m\n\u001b[0;32m     15\u001b[0m \u001b[0mp1\u001b[0m\u001b[1;33m.\u001b[0m\u001b[0msetName\u001b[0m\u001b[1;33m(\u001b[0m\u001b[1;34m'john'\u001b[0m\u001b[1;33m)\u001b[0m\u001b[1;33m\u001b[0m\u001b[1;33m\u001b[0m\u001b[0m\n\u001b[1;32m---> 16\u001b[1;33m \u001b[0mp1\u001b[0m\u001b[1;33m.\u001b[0m\u001b[0mgetSalary\u001b[0m\u001b[1;33m(\u001b[0m\u001b[1;36m1000\u001b[0m\u001b[1;33m)\u001b[0m\u001b[1;33m\u001b[0m\u001b[1;33m\u001b[0m\u001b[0m\n\u001b[0m\u001b[0;32m     17\u001b[0m \u001b[0mp1\u001b[0m\u001b[1;33m.\u001b[0m\u001b[0msetTechnologies\u001b[0m\u001b[1;33m(\u001b[0m\u001b[1;33m[\u001b[0m\u001b[1;34m'java'\u001b[0m\u001b[1;33m,\u001b[0m\u001b[1;34m'hibernate'\u001b[0m\u001b[1;33m,\u001b[0m\u001b[1;34m'spring'\u001b[0m\u001b[1;33m,\u001b[0m\u001b[1;34m'python'\u001b[0m\u001b[1;33m]\u001b[0m\u001b[1;33m)\u001b[0m\u001b[1;33m\u001b[0m\u001b[1;33m\u001b[0m\u001b[0m\n\u001b[0;32m     18\u001b[0m \u001b[0mprint\u001b[0m\u001b[1;33m(\u001b[0m\u001b[0mp1\u001b[0m\u001b[1;33m.\u001b[0m\u001b[0mgetName\u001b[0m\u001b[1;33m(\u001b[0m\u001b[1;33m)\u001b[0m\u001b[1;33m)\u001b[0m\u001b[1;33m\u001b[0m\u001b[1;33m\u001b[0m\u001b[0m\n",
      "\u001b[1;31mTypeError\u001b[0m: getSalary() takes 1 positional argument but 2 were given"
     ]
    }
   ],
   "source": [
    "class programmer:\n",
    "    def setName(self,n):\n",
    "        self.name=n\n",
    "    def getName(self):\n",
    "        return self.name\n",
    "    def setSalary(self,sal):\n",
    "        self.salary=sal\n",
    "    def getSalary(self):\n",
    "        return self.salary\n",
    "    def setTechnologies(self,techs):\n",
    "        self.technologies=techs\n",
    "    def getTechnologies(self):\n",
    "        return self.technologies\n",
    "p1=programmer()\n",
    "p1.setName('john')\n",
    "p1.getSalary(1000)\n",
    "p1.setTechnologies(['java','hibernate','spring','python'])\n",
    "print(p1.getName())"
   ]
  },
  {
   "cell_type": "code",
   "execution_count": 43,
   "metadata": {},
   "outputs": [
    {
     "name": "stdout",
     "output_type": "stream",
     "text": [
      "iphone\n",
      "700\n",
      "its awesome\n",
      "iphone\n",
      "700\n",
      "its awesome\n"
     ]
    }
   ],
   "source": [
    "class Product:\n",
    "    def __init__(self):\n",
    "        self.name='iphone'\n",
    "        self.price=700\n",
    "        self.description='its awesome'\n",
    "    def display(self):\n",
    "        print(self.name)\n",
    "        print(self.price)\n",
    "        print(self.description)\n",
    "p1=Product()\n",
    "p1.display()\n",
    "p2=Product()\n",
    "p2.display()\n",
    "\n"
   ]
  },
  {
   "cell_type": "code",
   "execution_count": 57,
   "metadata": {},
   "outputs": [
    {
     "name": "stdout",
     "output_type": "stream",
     "text": [
      "CSE\n",
      "john\n",
      "1\n",
      "CSE\n",
      "bill\n",
      "2\n",
      "CSE\n",
      "sam\n",
      "3\n"
     ]
    }
   ],
   "source": [
    "#student.py\n",
    "class student:\n",
    "    major='CSE'\n",
    "    def __init__(self,rollno,name):\n",
    "        self.rollno=rollno\n",
    "        self.name=name\n",
    "s1=student(1,'john')\n",
    "s2=student(2,'bill')\n",
    "s3=student(3,'sam')\n",
    "print(s1.major)\n",
    "print(s1.name)\n",
    "print(s1.rollno)\n",
    "print(s2.major)\n",
    "print(s2.name)\n",
    "print(s2.rollno)\n",
    "print(s3.major)\n",
    "print(s3.name)\n",
    "print(s3.rollno)\n",
    "\n",
    "\n"
   ]
  },
  {
   "cell_type": "code",
   "execution_count": 63,
   "metadata": {},
   "outputs": [
    {
     "name": "stdout",
     "output_type": "stream",
     "text": [
      "3\n"
     ]
    }
   ],
   "source": [
    "#object count\n",
    "class ObjectCounter:\n",
    "    numberOfObjects=0\n",
    "    def __init__(self):\n",
    "        ObjectCounter.numberOfObjects+=1\n",
    "    def displayCount():\n",
    "        print(ObjectCounter.numberOfObjects)\n",
    "O1=ObjectCounter()\n",
    "O2=ObjectCounter()\n",
    "O3=ObjectCounter()\n",
    "ObjectCounter.displayCount()\n",
    "    \n"
   ]
  },
  {
   "cell_type": "code",
   "execution_count": 71,
   "metadata": {},
   "outputs": [
    {
     "name": "stdout",
     "output_type": "stream",
     "text": [
      "engine started\n"
     ]
    }
   ],
   "source": [
    "#innerdemo\n",
    "class car:\n",
    "    def __init__(self,make,year):\n",
    "        self.make=make\n",
    "        self.year=year\n",
    "    class engine:\n",
    "        def __init__(self,number):\n",
    "            self.number=number\n",
    "        def start(self):\n",
    "            print('engine started')\n",
    "\n",
    "c=car('BMW',2017)\n",
    "e=c.engine(1235789)\n",
    "e.start()\n",
    "                  "
   ]
  },
  {
   "cell_type": "code",
   "execution_count": 89,
   "metadata": {},
   "outputs": [],
   "source": [
    "class myClass():\n",
    "    def method1(self):\n",
    "        print(\"Guru99\")\n",
    "    def method2(self,somestring):\n",
    "        print(\"software testing\"+somestring)\n",
    "    def main():\n",
    "        c=myClass()\n",
    "        c.method1()\n",
    "        c.method2(\"testing is fun\")\n",
    "#if __name__==\"__main__\":\n",
    "    #main()"
   ]
  },
  {
   "cell_type": "code",
   "execution_count": 92,
   "metadata": {},
   "outputs": [
    {
     "ename": "TypeError",
     "evalue": "user() takes no arguments",
     "output_type": "error",
     "traceback": [
      "\u001b[1;31m---------------------------------------------------------------------------\u001b[0m",
      "\u001b[1;31mTypeError\u001b[0m                                 Traceback (most recent call last)",
      "\u001b[1;32m<ipython-input-92-ad4068dee8e8>\u001b[0m in \u001b[0;36m<module>\u001b[1;34m\u001b[0m\n\u001b[0;32m      6\u001b[0m     \u001b[1;32mdef\u001b[0m \u001b[0msayHello\u001b[0m\u001b[1;33m(\u001b[0m\u001b[0mself\u001b[0m\u001b[1;33m)\u001b[0m\u001b[1;33m:\u001b[0m\u001b[1;33m\u001b[0m\u001b[1;33m\u001b[0m\u001b[0m\n\u001b[0;32m      7\u001b[0m         \u001b[0mprint\u001b[0m\u001b[1;33m(\u001b[0m\u001b[1;34m\"welcome to guru99,\"\u001b[0m\u001b[1;33m+\u001b[0m\u001b[0mself\u001b[0m\u001b[1;33m.\u001b[0m\u001b[0mname\u001b[0m\u001b[1;33m)\u001b[0m\u001b[1;33m\u001b[0m\u001b[1;33m\u001b[0m\u001b[0m\n\u001b[1;32m----> 8\u001b[1;33m \u001b[0muser1\u001b[0m\u001b[1;33m=\u001b[0m\u001b[0muser\u001b[0m\u001b[1;33m(\u001b[0m\u001b[1;34m\"Alex\"\u001b[0m\u001b[1;33m)\u001b[0m\u001b[1;33m\u001b[0m\u001b[1;33m\u001b[0m\u001b[0m\n\u001b[0m\u001b[0;32m      9\u001b[0m \u001b[0muser1\u001b[0m\u001b[1;33m.\u001b[0m\u001b[0msayHello\u001b[0m\u001b[1;33m(\u001b[0m\u001b[1;33m)\u001b[0m\u001b[1;33m\u001b[0m\u001b[1;33m\u001b[0m\u001b[0m\n",
      "\u001b[1;31mTypeError\u001b[0m: user() takes no arguments"
     ]
    }
   ],
   "source": [
    "class user:\n",
    "    name=\"\"\n",
    "    \n",
    "    def __init_(self,name):\n",
    "        self.name=name\n",
    "    def sayHello(self):\n",
    "        print(\"welcome to guru99,\"+self.name)\n",
    "user1=user(\"Alex\")\n",
    "user1.sayHello()"
   ]
  },
  {
   "cell_type": "code",
   "execution_count": null,
   "metadata": {},
   "outputs": [],
   "source": [
    "\n"
   ]
  },
  {
   "cell_type": "code",
   "execution_count": null,
   "metadata": {},
   "outputs": [],
   "source": []
  }
 ],
 "metadata": {
  "kernelspec": {
   "display_name": "Python 3",
   "language": "python",
   "name": "python3"
  },
  "language_info": {
   "codemirror_mode": {
    "name": "ipython",
    "version": 3
   },
   "file_extension": ".py",
   "mimetype": "text/x-python",
   "name": "python",
   "nbconvert_exporter": "python",
   "pygments_lexer": "ipython3",
   "version": "3.7.3"
  }
 },
 "nbformat": 4,
 "nbformat_minor": 2
}
